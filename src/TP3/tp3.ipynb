{
 "cells": [
  {
   "cell_type": "markdown",
   "metadata": {},
   "source": [
    "Dans ce notebook, on vise a comparer les algorithmes Label Propagation et Louvain de python."
   ]
  },
  {
   "cell_type": "code",
   "execution_count": 47,
   "metadata": {},
   "outputs": [],
   "source": [
    "import numpy as np\n",
    "from random import randint\n",
    "import matplotlib.pyplot as plt\n",
    "import networkx as nx\n",
    "from networkx.drawing.nx_pylab import draw\n",
    "from networkx.algorithms.community.label_propagation import asyn_lpa_communities \n",
    "import time\n",
    "from memory_profiler import memory_usage\n",
    "import community #python-louvain package\n",
    "import pandas as pd\n",
    "from sklearn.metrics import normalized_mutual_info_score as NMI\n",
    "from sklearn.metrics import adjusted_rand_score as ARS\n",
    "\n",
    "from functions import graph_rand_edges\n",
    "\n",
    "resFold = '../res/'"
   ]
  },
  {
   "cell_type": "code",
   "execution_count": 48,
   "metadata": {},
   "outputs": [
    {
     "name": "stdout",
     "output_type": "stream",
     "text": [
      "exercice 3: validation\n"
     ]
    }
   ],
   "source": [
    "print(\"exercice 3: validation\")\n",
    "\n",
    "p = [0.1, 0.3, 0.5, 0.9]\n",
    "q = 0.1\n",
    "nb_nodes = [200,400,600,800]\n",
    "nb_clusters = 4\n",
    "df = pd.DataFrame(columns=['p', 'q', 'nb_nodes','time_propagation','memory_propagation','time_louvain','memory_louvain'])\n",
    "\n",
    "for p_i in p:\n",
    "    for N in nb_nodes :\n",
    "        G, y = graph_rand_edges(p_i, q, N, nb_clusters)\n",
    "\n",
    "        # Label propagation\n",
    "        start_label_prop = time.time()\n",
    "\n",
    "        init_labels = np.arange(N)\n",
    "        np.random.shuffle(init_labels)\n",
    "        label_prop_memory = np.mean(memory_usage((asyn_lpa_communities, (G,))))\n",
    "\n",
    "        end_label_prop = time.time()\n",
    "\n",
    "        #Louvain \n",
    "        start_louvain = time.time()\n",
    "\n",
    "        louvain_memory = np.mean(memory_usage((community.best_partition,(G,))))\n",
    "\n",
    "        end_louvain = time.time()\n",
    "        \n",
    "        d = {'p': [p_i], \n",
    "             'q':[q],\n",
    "             'nb_nodes':[N],\n",
    "             'time_propagation' : [end_label_prop-start_label_prop],\n",
    "             'memory_propagation': [label_prop_memory],\n",
    "             'time_louvain' : [end_louvain-start_louvain],\n",
    "             'memory_louvain': [louvain_memory]\n",
    "            }\n",
    "        \n",
    "        df2 = pd.DataFrame(data = d)\n",
    "        df = df.append(df2)\n",
    "\n",
    "df.to_csv(resFold+\"compare_algorithms_results.csv\",index=False)"
   ]
  },
  {
   "cell_type": "markdown",
   "metadata": {},
   "source": [
    "## LFR Benchmark\n",
    "\n",
    "Nous avons prealablement lance ce code dans le terminal (Windows)\n",
    "\n",
    "/lfr_package/lfrbench_udwov.exe -N 400 -k 5 -maxk 50 -muw 0.1\n"
   ]
  },
  {
   "cell_type": "code",
   "execution_count": 49,
   "metadata": {},
   "outputs": [
    {
     "data": {
      "image/png": "[encoded data removed]",
      "text/plain": [
       "<Figure size 432x288 with 1 Axes>"
      ]
     },
     "metadata": {},
     "output_type": "display_data"
    }
   ],
   "source": [
    "from functions import preprocess_communities, preprocess_edges\n",
    "pathToData = \"./lfr_package/graph/\"\n",
    "\n",
    "# Process data\n",
    "y = preprocess_communities(pathToData)\n",
    "edgelist = preprocess_edges(pathToData)\n",
    "\n",
    "number_nodes = len(y)\n",
    "number_communities = max(y)\n",
    "\n",
    "#Generate the graph\n",
    "G = nx.Graph()\n",
    "G.add_nodes_from(range(number_nodes))\n",
    "G.add_edges_from(edgelist)\n",
    "\n",
    "draw(G)"
   ]
  },
  {
   "cell_type": "code",
   "execution_count": 50,
   "metadata": {},
   "outputs": [],
   "source": [
    "# Label propagation \n",
    "y_init = [randint(0,number_communities-1) for i in range(number_nodes)]\n",
    "y_label_propagation = asyn_lpa_communities(G)\n",
    "\n",
    "#processing the results\n",
    "y_label_propagation_int = np.zeros(number_nodes)\n",
    "e = 1\n",
    "lst = list(y_label_propagation)\n",
    "for c in lst:\n",
    "    a = list(c)\n",
    "    for b in a :\n",
    "        y_label_propagation_int[b] = e\n",
    "    e += 1\n",
    "\n",
    "# Louvain\n",
    "partition = community.best_partition(G)\n",
    "y_louvain = list(partition.values())"
   ]
  },
  {
   "cell_type": "code",
   "execution_count": 40,
   "metadata": {},
   "outputs": [
    {
     "name": "stdout",
     "output_type": "stream",
     "text": [
      "Evaluate models\n",
      "\n",
      "NMI\n",
      "Label Propagation NMI: 0.9082318371218487\n",
      "Louvain NMI: 0.9158969081699277\n",
      "ARS\n",
      "Label Propagation ARS: 0.8707847529663811\n",
      "Louvain ARS: 0.8647643793097846\n"
     ]
    }
   ],
   "source": [
    "print(\"Evaluate models\\n\")\n",
    "print(\"NMI\")\n",
    "print('Label Propagation NMI: ' + str(NMI(y,y_label_propagation_int)))\n",
    "print('Louvain NMI: ' + str(NMI(y,y_louvain)))\n",
    "\n",
    "print(\"ARS\")\n",
    "print('Label Propagation ARS: ' + str(ARS(y,y_label_propagation_int)))\n",
    "print('Louvain ARS: ' + str(ARS(y,y_louvain)))"
   ]
  },
  {
   "cell_type": "code",
   "execution_count": null,
   "metadata": {},
   "outputs": [],
   "source": []
  }
 ],
 "metadata": {
  "kernelspec": {
   "display_name": "Python 3",
   "language": "python",
   "name": "python3"
  },
  "language_info": {
   "codemirror_mode": {
    "name": "ipython",
    "version": 3
   },
   "file_extension": ".py",
   "mimetype": "text/x-python",
   "name": "python",
   "nbconvert_exporter": "python",
   "pygments_lexer": "ipython3",
   "version": "3.8.2"
  }
 },
 "nbformat": 4,
 "nbformat_minor": 4
}
